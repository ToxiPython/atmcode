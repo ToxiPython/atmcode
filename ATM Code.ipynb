{
 "cells": [
  {
   "cell_type": "code",
   "execution_count": 1,
   "metadata": {},
   "outputs": [
    {
     "name": "stdout",
     "output_type": "stream",
     "text": [
      "menu:\n",
      "1 - Display balance\n",
      "2 - Withdraw funds\n",
      "3 - Deposit\n",
      "9 - Return card\n"
     ]
    }
   ],
   "source": [
    "# setting a bank balance\n",
    "balance = 150.94\n",
    "\n",
    "#Displaying a menu option and prompting them to select one \n",
    "print(\"menu:\")\n",
    "print (\"1 - Display balance\")\n",
    "print (\"2 - Withdraw funds\")\n",
    "print (\"3 - Deposit\")\n",
    "print (\"9 - Return card\")\n",
    "menu_option = int(input(\"Welcome to Northern Frock, please pick an option from the menu:\"))\n",
    "\n",
    "#If statement allowing the user to select how much they want to withdraw and then calculating the new balance\n",
    "if menu_option == 1:\n",
    "    print(\"Your availaable balance is \", balance, \"You can withdraw £10, £20 ,£30, £40, £50 or £60.\")\n",
    "    withdraw = int (input(\"Please select withdrawal amount\"))\n",
    "    if withdraw == 1: # calculating  the new balance after user has selected withdrawal amount\n",
    "        print(\"You have withdrawn £10. Your new balance is: \", balance - 10)\n",
    "    elif withdraw == 2:\n",
    "        print(\"You have withdrawn £20. Your new balance is: \", balance - 20)\n",
    "    elif withdraw == 3:\n",
    "        print(\"You have withdrawn £40. Your new balance is: \", balance - 40)\n",
    "    elif withdraw == 4:\n",
    "        print(\"You have withdrawn £60. Your new balance is: \", balance - 60)\n",
    "    elif withdraw == 5:\n",
    "        print(\"You have withdrawn £80. Your new balance is: \", balance - 80)\n",
    "    elif withdraw == 6:\n",
    "        print(\"You have withdrawn £100. Your new balance is: \", balance - 100)\n",
    "    elif withdraw == 7:\n",
    "        other_amount = int(input (\"How much would you like to withdraw?\"))\n",
    "        if other_amount % 10 !=0: # ensuring amount is divsable of 10\n",
    "            print(\"This machine only gives out £10s\")\n",
    "        elif other_amount < balance : # ensuring they have sufficent funds\n",
    "            print(\"You have withdrawn \", other_amount, \"Your new balance is: \", balance - other_amount)\n",
    "        else:\n",
    "            print (\"You have insufficent funds\")\n",
    "            \n",
    "elif menu_option == 3:\n",
    "    deposit = int(input(\"enter the amount you would like to deposit: \"))\n",
    "    print(\"Your new balance is: \", balance + deposit) #adding the deposit value to the existing balance \n",
    "elif menu_option == 9 :\n",
    "    print(\"here is your card, good bye\")\n",
    "else:\n",
    "    print (\"You have entered an invalid option\")\n"
   ]
  }
 ],
 "metadata": {
  "kernelspec": {
   "display_name": "Python 3.10.6 64-bit",
   "language": "python",
   "name": "python3"
  },
  "language_info": {
   "codemirror_mode": {
    "name": "ipython",
    "version": 3
   },
   "file_extension": ".py",
   "mimetype": "text/x-python",
   "name": "python",
   "nbconvert_exporter": "python",
   "pygments_lexer": "ipython3",
   "version": "3.10.6"
  },
  "orig_nbformat": 4,
  "vscode": {
   "interpreter": {
    "hash": "e4398a2efd9a271864c6defc70106a1c7dd929876453c218e30bbda9fe543124"
   }
  }
 },
 "nbformat": 4,
 "nbformat_minor": 2
}
